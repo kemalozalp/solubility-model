{
 "cells": [
  {
   "cell_type": "markdown",
   "metadata": {},
   "source": [
    "# Training a Solubility Model using Extended Connectivity Fingerprints\n",
    "\n",
    "In this notebook, I use the solubility dataset curated by Lowe _et. al._ (2023) and trained a classification model for predicting the solubility of compounds using Extended Connectivity Fingerprints (ECFP) calculated for radius 3, hence ECFP6. I train several classical machine learning models and evaluate their performance using 5-fold cross validation. "
   ]
  },
  {
   "cell_type": "markdown",
   "metadata": {},
   "source": [
    "Here is my data path."
   ]
  },
  {
   "cell_type": "code",
   "execution_count": 1,
   "metadata": {},
   "outputs": [],
   "source": [
    "data_path = \"../data/01_raw/tx2c00379_si_002.xlsx\""
   ]
  },
  {
   "cell_type": "markdown",
   "metadata": {},
   "source": [
    "Load the data and list the names of worksheets."
   ]
  },
  {
   "cell_type": "code",
   "execution_count": 2,
   "metadata": {},
   "outputs": [
    {
     "name": "stdout",
     "output_type": "stream",
     "text": [
      "Intel MKL WARNING: Support of Intel(R) Streaming SIMD Extensions 4.2 (Intel(R) SSE4.2) enabled only processors has been deprecated. Intel oneAPI Math Kernel Library 2025.0 will require Intel(R) Advanced Vector Extensions (Intel(R) AVX) instructions.\n",
      "Intel MKL WARNING: Support of Intel(R) Streaming SIMD Extensions 4.2 (Intel(R) SSE4.2) enabled only processors has been deprecated. Intel oneAPI Math Kernel Library 2025.0 will require Intel(R) Advanced Vector Extensions (Intel(R) AVX) instructions.\n"
     ]
    },
    {
     "data": {
      "text/plain": [
       "['Table of Contents',\n",
       " 'S1. Training Data',\n",
       " 'S2. Test Data',\n",
       " 'S3. Descriptors',\n",
       " 'S4. CV Folds Performance',\n",
       " 'S5. Original Data']"
      ]
     },
     "execution_count": 2,
     "metadata": {},
     "output_type": "execute_result"
    }
   ],
   "source": [
    "import pandas as pd\n",
    "data = pd.ExcelFile(data_path)\n",
    "data.sheet_names"
   ]
  },
  {
   "cell_type": "markdown",
   "metadata": {},
   "source": [
    "I use the \"S1. Training Data\" worksheet to train my models. I'll not train the models using the chemical descriptors provided in this sheet. Instead, I'll use the standardized SMILES and create ECFP6s."
   ]
  },
  {
   "cell_type": "code",
   "execution_count": 3,
   "metadata": {},
   "outputs": [
    {
     "data": {
      "text/html": [
       "<div>\n",
       "<style scoped>\n",
       "    .dataframe tbody tr th:only-of-type {\n",
       "        vertical-align: middle;\n",
       "    }\n",
       "\n",
       "    .dataframe tbody tr th {\n",
       "        vertical-align: top;\n",
       "    }\n",
       "\n",
       "    .dataframe thead th {\n",
       "        text-align: right;\n",
       "    }\n",
       "</style>\n",
       "<table border=\"1\" class=\"dataframe\">\n",
       "  <thead>\n",
       "    <tr style=\"text-align: right;\">\n",
       "      <th></th>\n",
       "      <th>XLogP</th>\n",
       "      <th>GATS1s</th>\n",
       "      <th>GATS1m</th>\n",
       "      <th>GATS1e</th>\n",
       "      <th>GATS1p</th>\n",
       "      <th>GATS1i</th>\n",
       "      <th>GATS2e</th>\n",
       "      <th>GATS1v</th>\n",
       "      <th>GATS1c</th>\n",
       "      <th>SIC0</th>\n",
       "      <th>ZMIC3</th>\n",
       "      <th>piPC7</th>\n",
       "      <th>piPC5</th>\n",
       "      <th>nAcid</th>\n",
       "      <th>nHBAcc</th>\n",
       "      <th>nHBDon</th>\n",
       "      <th>median_WS</th>\n",
       "      <th>Standardized_SMILES</th>\n",
       "    </tr>\n",
       "  </thead>\n",
       "  <tbody>\n",
       "    <tr>\n",
       "      <th>0</th>\n",
       "      <td>0.936498</td>\n",
       "      <td>-0.970370</td>\n",
       "      <td>-0.480993</td>\n",
       "      <td>-0.877541</td>\n",
       "      <td>-0.745284</td>\n",
       "      <td>-0.937635</td>\n",
       "      <td>-1.083567</td>\n",
       "      <td>-0.766023</td>\n",
       "      <td>-0.008895</td>\n",
       "      <td>-0.206037</td>\n",
       "      <td>0.715794</td>\n",
       "      <td>0.550312</td>\n",
       "      <td>0.611528</td>\n",
       "      <td>-0.348025</td>\n",
       "      <td>-0.021412</td>\n",
       "      <td>-0.046488</td>\n",
       "      <td>-2.271500</td>\n",
       "      <td>O=C(NC(=O)C1C=CC=CC=1)C1C=CC=CC=1</td>\n",
       "    </tr>\n",
       "    <tr>\n",
       "      <th>1</th>\n",
       "      <td>0.342767</td>\n",
       "      <td>-1.043955</td>\n",
       "      <td>-1.473961</td>\n",
       "      <td>-1.022654</td>\n",
       "      <td>-1.335317</td>\n",
       "      <td>-0.720439</td>\n",
       "      <td>-0.192275</td>\n",
       "      <td>-1.200827</td>\n",
       "      <td>-1.193408</td>\n",
       "      <td>1.140815</td>\n",
       "      <td>-0.023417</td>\n",
       "      <td>0.629892</td>\n",
       "      <td>0.541051</td>\n",
       "      <td>-0.348025</td>\n",
       "      <td>-0.021412</td>\n",
       "      <td>-0.789426</td>\n",
       "      <td>-3.382172</td>\n",
       "      <td>O=C1C(Cl)=C(Cl)C=NN1C1C=CC=CC=1</td>\n",
       "    </tr>\n",
       "    <tr>\n",
       "      <th>2</th>\n",
       "      <td>0.067360</td>\n",
       "      <td>-1.179478</td>\n",
       "      <td>-0.386046</td>\n",
       "      <td>-1.366302</td>\n",
       "      <td>-0.623350</td>\n",
       "      <td>-1.118630</td>\n",
       "      <td>-0.174790</td>\n",
       "      <td>-0.567204</td>\n",
       "      <td>-2.592873</td>\n",
       "      <td>0.168601</td>\n",
       "      <td>-0.472455</td>\n",
       "      <td>-0.233875</td>\n",
       "      <td>0.054378</td>\n",
       "      <td>-0.348025</td>\n",
       "      <td>-0.776753</td>\n",
       "      <td>-0.789426</td>\n",
       "      <td>-1.201546</td>\n",
       "      <td>O=CC1C=CC=CC=1</td>\n",
       "    </tr>\n",
       "    <tr>\n",
       "      <th>3</th>\n",
       "      <td>-0.862942</td>\n",
       "      <td>-0.327086</td>\n",
       "      <td>-0.136440</td>\n",
       "      <td>-1.041726</td>\n",
       "      <td>0.480663</td>\n",
       "      <td>0.082138</td>\n",
       "      <td>-0.878888</td>\n",
       "      <td>-0.522815</td>\n",
       "      <td>0.179127</td>\n",
       "      <td>0.878502</td>\n",
       "      <td>0.221784</td>\n",
       "      <td>0.683945</td>\n",
       "      <td>0.603033</td>\n",
       "      <td>-0.348025</td>\n",
       "      <td>1.111600</td>\n",
       "      <td>-0.046488</td>\n",
       "      <td>-3.128816</td>\n",
       "      <td>NS(=O)(=O)CCN1C(=O)C2=CC=CC=C2C1=O</td>\n",
       "    </tr>\n",
       "    <tr>\n",
       "      <th>4</th>\n",
       "      <td>-0.273942</td>\n",
       "      <td>-0.718723</td>\n",
       "      <td>-1.606037</td>\n",
       "      <td>-2.058297</td>\n",
       "      <td>-0.684827</td>\n",
       "      <td>-0.542332</td>\n",
       "      <td>-0.642154</td>\n",
       "      <td>-0.469959</td>\n",
       "      <td>-1.977194</td>\n",
       "      <td>1.092923</td>\n",
       "      <td>0.815359</td>\n",
       "      <td>0.868703</td>\n",
       "      <td>0.804197</td>\n",
       "      <td>-0.348025</td>\n",
       "      <td>-0.776753</td>\n",
       "      <td>-0.789426</td>\n",
       "      <td>-3.559450</td>\n",
       "      <td>CN(C1C(=CC(=CC=1[N+]([O-])=O)[N+]([O-])=O)[N+]...</td>\n",
       "    </tr>\n",
       "  </tbody>\n",
       "</table>\n",
       "</div>"
      ],
      "text/plain": [
       "      XLogP    GATS1s    GATS1m    GATS1e    GATS1p    GATS1i    GATS2e  \\\n",
       "0  0.936498 -0.970370 -0.480993 -0.877541 -0.745284 -0.937635 -1.083567   \n",
       "1  0.342767 -1.043955 -1.473961 -1.022654 -1.335317 -0.720439 -0.192275   \n",
       "2  0.067360 -1.179478 -0.386046 -1.366302 -0.623350 -1.118630 -0.174790   \n",
       "3 -0.862942 -0.327086 -0.136440 -1.041726  0.480663  0.082138 -0.878888   \n",
       "4 -0.273942 -0.718723 -1.606037 -2.058297 -0.684827 -0.542332 -0.642154   \n",
       "\n",
       "     GATS1v    GATS1c      SIC0     ZMIC3     piPC7     piPC5     nAcid  \\\n",
       "0 -0.766023 -0.008895 -0.206037  0.715794  0.550312  0.611528 -0.348025   \n",
       "1 -1.200827 -1.193408  1.140815 -0.023417  0.629892  0.541051 -0.348025   \n",
       "2 -0.567204 -2.592873  0.168601 -0.472455 -0.233875  0.054378 -0.348025   \n",
       "3 -0.522815  0.179127  0.878502  0.221784  0.683945  0.603033 -0.348025   \n",
       "4 -0.469959 -1.977194  1.092923  0.815359  0.868703  0.804197 -0.348025   \n",
       "\n",
       "     nHBAcc    nHBDon  median_WS  \\\n",
       "0 -0.021412 -0.046488  -2.271500   \n",
       "1 -0.021412 -0.789426  -3.382172   \n",
       "2 -0.776753 -0.789426  -1.201546   \n",
       "3  1.111600 -0.046488  -3.128816   \n",
       "4 -0.776753 -0.789426  -3.559450   \n",
       "\n",
       "                                 Standardized_SMILES  \n",
       "0                  O=C(NC(=O)C1C=CC=CC=1)C1C=CC=CC=1  \n",
       "1                    O=C1C(Cl)=C(Cl)C=NN1C1C=CC=CC=1  \n",
       "2                                     O=CC1C=CC=CC=1  \n",
       "3                 NS(=O)(=O)CCN1C(=O)C2=CC=CC=C2C1=O  \n",
       "4  CN(C1C(=CC(=CC=1[N+]([O-])=O)[N+]([O-])=O)[N+]...  "
      ]
     },
     "execution_count": 3,
     "metadata": {},
     "output_type": "execute_result"
    }
   ],
   "source": [
    "train = pd.read_excel(data_path, sheet_name='S1. Training Data')\n",
    "train.head()"
   ]
  },
  {
   "cell_type": "markdown",
   "metadata": {},
   "source": [
    "Disable RDKit warning messages before I start."
   ]
  },
  {
   "cell_type": "code",
   "execution_count": 4,
   "metadata": {},
   "outputs": [],
   "source": [
    "from rdkit import RDLogger\n",
    "logger = RDLogger.logger()\n",
    "logger.setLevel(RDLogger.ERROR)"
   ]
  },
  {
   "cell_type": "markdown",
   "metadata": {},
   "source": [
    "I, first, create molecules from the SMILES."
   ]
  },
  {
   "cell_type": "code",
   "execution_count": 11,
   "metadata": {},
   "outputs": [
    {
     "data": {
      "application/vnd.jupyter.widget-view+json": {
       "model_id": "da59c73cd13a4db88e768822ad01df79",
       "version_major": 2,
       "version_minor": 0
      },
      "text/plain": [
       "  0%|          | 0/7655 [00:00<?, ?it/s]"
      ]
     },
     "metadata": {},
     "output_type": "display_data"
    }
   ],
   "source": [
    "from rdkit.Chem import MolFromSmiles\n",
    "from tqdm.notebook import tqdm\n",
    "ROMols = [MolFromSmiles(smiles) for smiles in tqdm(train['Standardized_SMILES'].values)]"
   ]
  },
  {
   "cell_type": "markdown",
   "metadata": {},
   "source": [
    "Now, create ECFPs for radius 3 and 1024 bits. I create a 'create_ecfp' function first. Then, create ECFPs from ROMols using list comprehension."
   ]
  },
  {
   "cell_type": "code",
   "execution_count": 12,
   "metadata": {},
   "outputs": [],
   "source": [
    "import rdkit\n",
    "from rdkit.Chem.AllChem import GetMorganFingerprintAsBitVect\n",
    "from rdkit.Chem import DataStructs\n",
    "import numpy as np\n",
    "\n",
    "def create_ecfp(\n",
    "        mol: rdkit.Chem.rdchem.Mol,\n",
    "        radius: int = 3,\n",
    "        nbits: int = 1024\n",
    "        ) -> np.ndarray:\n",
    "    \n",
    "    mfbitvector = GetMorganFingerprintAsBitVect(mol, radius, nbits)\n",
    "    arr = np.zeros((1,0))\n",
    "    DataStructs.ConvertToNumpyArray(mfbitvector, arr)\n",
    "    \n",
    "    return arr"
   ]
  },
  {
   "cell_type": "code",
   "execution_count": 13,
   "metadata": {},
   "outputs": [
    {
     "data": {
      "application/vnd.jupyter.widget-view+json": {
       "model_id": "d857906e7de242abb069d0b450e652e9",
       "version_major": 2,
       "version_minor": 0
      },
      "text/plain": [
       "  0%|          | 0/7655 [00:00<?, ?it/s]"
      ]
     },
     "metadata": {},
     "output_type": "display_data"
    }
   ],
   "source": [
    "X_train = [create_ecfp(mol) for mol in tqdm(ROMols)]"
   ]
  },
  {
   "cell_type": "code",
   "execution_count": 14,
   "metadata": {},
   "outputs": [
    {
     "data": {
      "text/plain": [
       "<Axes: >"
      ]
     },
     "execution_count": 14,
     "metadata": {},
     "output_type": "execute_result"
    },
    {
     "data": {
      "image/png": "[encoded data removed]",
      "text/plain": [
       "<Figure size 640x480 with 1 Axes>"
      ]
     },
     "metadata": {},
     "output_type": "display_data"
    }
   ],
   "source": [
    "train['median_WS'].hist(bins=24)"
   ]
  },
  {
   "cell_type": "code",
   "execution_count": 15,
   "metadata": {},
   "outputs": [],
   "source": [
    "cutoff = -3.0"
   ]
  },
  {
   "cell_type": "code",
   "execution_count": 19,
   "metadata": {},
   "outputs": [],
   "source": [
    "y_train = [int(1) if val >= cutoff else int(0) for val in train['median_WS'].values]"
   ]
  },
  {
   "cell_type": "code",
   "execution_count": 21,
   "metadata": {},
   "outputs": [
    {
     "data": {
      "text/html": [
       "<div>\n",
       "<style scoped>\n",
       "    .dataframe tbody tr th:only-of-type {\n",
       "        vertical-align: middle;\n",
       "    }\n",
       "\n",
       "    .dataframe tbody tr th {\n",
       "        vertical-align: top;\n",
       "    }\n",
       "\n",
       "    .dataframe thead th {\n",
       "        text-align: right;\n",
       "    }\n",
       "</style>\n",
       "<table border=\"1\" class=\"dataframe\">\n",
       "  <thead>\n",
       "    <tr style=\"text-align: right;\">\n",
       "      <th></th>\n",
       "      <th>XLogP</th>\n",
       "      <th>GATS1s</th>\n",
       "      <th>GATS1m</th>\n",
       "      <th>GATS1e</th>\n",
       "      <th>GATS1p</th>\n",
       "      <th>GATS1i</th>\n",
       "      <th>GATS2e</th>\n",
       "      <th>GATS1v</th>\n",
       "      <th>GATS1c</th>\n",
       "      <th>SIC0</th>\n",
       "      <th>ZMIC3</th>\n",
       "      <th>piPC7</th>\n",
       "      <th>piPC5</th>\n",
       "      <th>nAcid</th>\n",
       "      <th>nHBAcc</th>\n",
       "      <th>nHBDon</th>\n",
       "      <th>median_WS</th>\n",
       "      <th>Standardized_SMILES</th>\n",
       "    </tr>\n",
       "  </thead>\n",
       "  <tbody>\n",
       "    <tr>\n",
       "      <th>0</th>\n",
       "      <td>0.030189</td>\n",
       "      <td>-0.598558</td>\n",
       "      <td>-0.886614</td>\n",
       "      <td>-1.029329</td>\n",
       "      <td>-0.690235</td>\n",
       "      <td>-1.125166</td>\n",
       "      <td>-0.852255</td>\n",
       "      <td>-0.725795</td>\n",
       "      <td>-0.944007</td>\n",
       "      <td>0.723388</td>\n",
       "      <td>-0.291472</td>\n",
       "      <td>0.395987</td>\n",
       "      <td>0.335983</td>\n",
       "      <td>1.448422</td>\n",
       "      <td>-0.021412</td>\n",
       "      <td>-0.046488</td>\n",
       "      <td>-1.843351</td>\n",
       "      <td>[O-][N+](=O)C(C=O)(C(O)=O)C1C=CC=CC=1</td>\n",
       "    </tr>\n",
       "    <tr>\n",
       "      <th>1</th>\n",
       "      <td>-0.884231</td>\n",
       "      <td>-1.029376</td>\n",
       "      <td>-1.417321</td>\n",
       "      <td>-0.588051</td>\n",
       "      <td>-0.925781</td>\n",
       "      <td>0.909000</td>\n",
       "      <td>1.183894</td>\n",
       "      <td>-0.293145</td>\n",
       "      <td>-0.623136</td>\n",
       "      <td>2.017216</td>\n",
       "      <td>0.099767</td>\n",
       "      <td>-0.907523</td>\n",
       "      <td>-0.785089</td>\n",
       "      <td>-0.348025</td>\n",
       "      <td>-0.399083</td>\n",
       "      <td>-0.789426</td>\n",
       "      <td>-1.647815</td>\n",
       "      <td>[O-][N+](=O)C1(Br)COCOC1</td>\n",
       "    </tr>\n",
       "    <tr>\n",
       "      <th>2</th>\n",
       "      <td>0.176171</td>\n",
       "      <td>-0.293186</td>\n",
       "      <td>-0.921390</td>\n",
       "      <td>-0.334045</td>\n",
       "      <td>-2.393419</td>\n",
       "      <td>-1.446137</td>\n",
       "      <td>0.774464</td>\n",
       "      <td>-2.601347</td>\n",
       "      <td>-1.977901</td>\n",
       "      <td>1.718908</td>\n",
       "      <td>1.575567</td>\n",
       "      <td>0.739924</td>\n",
       "      <td>0.753993</td>\n",
       "      <td>-0.348025</td>\n",
       "      <td>-1.154424</td>\n",
       "      <td>-0.046488</td>\n",
       "      <td>-0.604970</td>\n",
       "      <td>[O-][N+](=O)C1=C(Cl)C(=C(O)C(=C1Cl)[N+]([O-])=...</td>\n",
       "    </tr>\n",
       "    <tr>\n",
       "      <th>3</th>\n",
       "      <td>1.106136</td>\n",
       "      <td>-0.816131</td>\n",
       "      <td>-1.066304</td>\n",
       "      <td>-1.664537</td>\n",
       "      <td>-1.162705</td>\n",
       "      <td>-1.522933</td>\n",
       "      <td>-0.882860</td>\n",
       "      <td>-1.063556</td>\n",
       "      <td>-1.349506</td>\n",
       "      <td>0.266739</td>\n",
       "      <td>0.051396</td>\n",
       "      <td>1.307355</td>\n",
       "      <td>1.188515</td>\n",
       "      <td>-0.348025</td>\n",
       "      <td>-0.399083</td>\n",
       "      <td>-0.046488</td>\n",
       "      <td>-7.729934</td>\n",
       "      <td>[O-][N+](=O)C1=CC(=C(C=C1)N=NC1=C(O)C=CC2=CC=C...</td>\n",
       "    </tr>\n",
       "    <tr>\n",
       "      <th>4</th>\n",
       "      <td>0.816198</td>\n",
       "      <td>-0.758524</td>\n",
       "      <td>-1.370797</td>\n",
       "      <td>-1.232891</td>\n",
       "      <td>-1.842923</td>\n",
       "      <td>-1.567968</td>\n",
       "      <td>-0.295173</td>\n",
       "      <td>-1.532958</td>\n",
       "      <td>-1.420371</td>\n",
       "      <td>0.980637</td>\n",
       "      <td>1.353024</td>\n",
       "      <td>0.916827</td>\n",
       "      <td>0.908909</td>\n",
       "      <td>-0.348025</td>\n",
       "      <td>-1.154424</td>\n",
       "      <td>-0.046488</td>\n",
       "      <td>-6.663700</td>\n",
       "      <td>[O-][N+](=O)C1=CC(=C(C=C1)ON=CC1=CC(Br)=C(O)C(...</td>\n",
       "    </tr>\n",
       "  </tbody>\n",
       "</table>\n",
       "</div>"
      ],
      "text/plain": [
       "      XLogP    GATS1s    GATS1m    GATS1e    GATS1p    GATS1i    GATS2e  \\\n",
       "0  0.030189 -0.598558 -0.886614 -1.029329 -0.690235 -1.125166 -0.852255   \n",
       "1 -0.884231 -1.029376 -1.417321 -0.588051 -0.925781  0.909000  1.183894   \n",
       "2  0.176171 -0.293186 -0.921390 -0.334045 -2.393419 -1.446137  0.774464   \n",
       "3  1.106136 -0.816131 -1.066304 -1.664537 -1.162705 -1.522933 -0.882860   \n",
       "4  0.816198 -0.758524 -1.370797 -1.232891 -1.842923 -1.567968 -0.295173   \n",
       "\n",
       "     GATS1v    GATS1c      SIC0     ZMIC3     piPC7     piPC5     nAcid  \\\n",
       "0 -0.725795 -0.944007  0.723388 -0.291472  0.395987  0.335983  1.448422   \n",
       "1 -0.293145 -0.623136  2.017216  0.099767 -0.907523 -0.785089 -0.348025   \n",
       "2 -2.601347 -1.977901  1.718908  1.575567  0.739924  0.753993 -0.348025   \n",
       "3 -1.063556 -1.349506  0.266739  0.051396  1.307355  1.188515 -0.348025   \n",
       "4 -1.532958 -1.420371  0.980637  1.353024  0.916827  0.908909 -0.348025   \n",
       "\n",
       "     nHBAcc    nHBDon  median_WS  \\\n",
       "0 -0.021412 -0.046488  -1.843351   \n",
       "1 -0.399083 -0.789426  -1.647815   \n",
       "2 -1.154424 -0.046488  -0.604970   \n",
       "3 -0.399083 -0.046488  -7.729934   \n",
       "4 -1.154424 -0.046488  -6.663700   \n",
       "\n",
       "                                 Standardized_SMILES  \n",
       "0              [O-][N+](=O)C(C=O)(C(O)=O)C1C=CC=CC=1  \n",
       "1                           [O-][N+](=O)C1(Br)COCOC1  \n",
       "2  [O-][N+](=O)C1=C(Cl)C(=C(O)C(=C1Cl)[N+]([O-])=...  \n",
       "3  [O-][N+](=O)C1=CC(=C(C=C1)N=NC1=C(O)C=CC2=CC=C...  \n",
       "4  [O-][N+](=O)C1=CC(=C(C=C1)ON=CC1=CC(Br)=C(O)C(...  "
      ]
     },
     "execution_count": 21,
     "metadata": {},
     "output_type": "execute_result"
    }
   ],
   "source": [
    "test = pd.read_excel(data_path, sheet_name='S2. Test Data')\n",
    "test.head()"
   ]
  },
  {
   "cell_type": "code",
   "execution_count": 22,
   "metadata": {},
   "outputs": [
    {
     "data": {
      "application/vnd.jupyter.widget-view+json": {
       "model_id": "fdfe1d9d5d8643a3ad10f6c944ea0a38",
       "version_major": 2,
       "version_minor": 0
      },
      "text/plain": [
       "  0%|          | 0/2552 [00:00<?, ?it/s]"
      ]
     },
     "metadata": {},
     "output_type": "display_data"
    },
    {
     "data": {
      "application/vnd.jupyter.widget-view+json": {
       "model_id": "8b7c9ada40dd45f4bb1d022ba4a4f54a",
       "version_major": 2,
       "version_minor": 0
      },
      "text/plain": [
       "  0%|          | 0/2552 [00:00<?, ?it/s]"
      ]
     },
     "metadata": {},
     "output_type": "display_data"
    }
   ],
   "source": [
    "ROMols = [MolFromSmiles(smiles) for smiles in tqdm(test['Standardized_SMILES'].values)]\n",
    "X_test = [create_ecfp(mol) for mol in tqdm(ROMols)]\n",
    "y_test = [int(1) if val >= cutoff else int(0) for val in test['median_WS'].values]"
   ]
  },
  {
   "cell_type": "markdown",
   "metadata": {},
   "source": [
    "## Modeling"
   ]
  },
  {
   "cell_type": "code",
   "execution_count": 23,
   "metadata": {},
   "outputs": [],
   "source": [
    "from sklearn.ensemble import RandomForestClassifier\n",
    "clf = RandomForestClassifier(n_estimators=100,max_depth=40,random_state=7)\n",
    "clf.fit(X_train,y_train)\n",
    "predictions = clf.predict(X_test)"
   ]
  },
  {
   "cell_type": "code",
   "execution_count": 24,
   "metadata": {},
   "outputs": [],
   "source": [
    "from sklearn.metrics import (accuracy_score, f1_score, precision_score, recall_score, \n",
    "                            matthews_corrcoef, confusion_matrix, ConfusionMatrixDisplay)"
   ]
  },
  {
   "cell_type": "code",
   "execution_count": 25,
   "metadata": {},
   "outputs": [
    {
     "name": "stdout",
     "output_type": "stream",
     "text": [
      "[0.8025078369905956, 0.8086158192090396, 0.8309143686502177, 0.6017924560102653]\n"
     ]
    }
   ],
   "source": [
    "acc = accuracy_score(y_test,predictions)\n",
    "precision = precision_score(y_test, predictions)\n",
    "recall = recall_score(y_test, predictions)\n",
    "mcc = matthews_corrcoef(y_test, predictions)\n",
    "print([acc, precision, recall, mcc])"
   ]
  },
  {
   "cell_type": "code",
   "execution_count": 26,
   "metadata": {},
   "outputs": [
    {
     "data": {
      "text/plain": [
       "<sklearn.metrics._plot.confusion_matrix.ConfusionMatrixDisplay at 0x7fddc94ebfa0>"
      ]
     },
     "execution_count": 26,
     "metadata": {},
     "output_type": "execute_result"
    },
    {
     "data": {
      "image/png": "[encoded data removed]",
      "text/plain": [
       "<Figure size 640x480 with 2 Axes>"
      ]
     },
     "metadata": {},
     "output_type": "display_data"
    }
   ],
   "source": [
    "cm = confusion_matrix(y_test, predictions)\n",
    "disp = ConfusionMatrixDisplay(cm)\n",
    "disp.plot()"
   ]
  },
  {
   "cell_type": "code",
   "execution_count": 28,
   "metadata": {},
   "outputs": [
    {
     "data": {
      "text/plain": [
       "['../models/solubility_model.joblib']"
      ]
     },
     "execution_count": 28,
     "metadata": {},
     "output_type": "execute_result"
    }
   ],
   "source": [
    "import joblib\n",
    "model_path = \"../models/solubility_model.joblib\"\n",
    "joblib.dump(clf,model_path)"
   ]
  }
 ],
 "metadata": {
  "kernelspec": {
   "display_name": "solubility-model",
   "language": "python",
   "name": "python3"
  },
  "language_info": {
   "codemirror_mode": {
    "name": "ipython",
    "version": 3
   },
   "file_extension": ".py",
   "mimetype": "text/x-python",
   "name": "python",
   "nbconvert_exporter": "python",
   "pygments_lexer": "ipython3",
   "version": "3.10.14"
  }
 },
 "nbformat": 4,
 "nbformat_minor": 2
}
